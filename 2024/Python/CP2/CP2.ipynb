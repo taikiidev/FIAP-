{
 "cells": [
  {
   "cell_type": "code",
   "execution_count": 17,
   "metadata": {},
   "outputs": [
    {
     "name": "stdout",
     "output_type": "stream",
     "text": [
      "O elemento não está na lista!\n",
      "Erro: list.remove(x): x not in list\n"
     ]
    }
   ],
   "source": [
    "myList = [1,2,3,4,5]\n",
    "elemento = int(input('Digite o número a ser retirado da lista :'))\n",
    "\n",
    "try: \n",
    "    myList.remove(elemento)\n",
    "    print('Elemento removido com sucesso!')\n",
    "    print(f'Nova lista {myList}')\n",
    "    \n",
    "except ValueError as error:\n",
    "    print(f'O elemento não está na lista!')\n",
    "    print(f'Erro: {error}')\n"
   ]
  },
  {
   "cell_type": "code",
   "execution_count": 3,
   "metadata": {},
   "outputs": [
    {
     "name": "stdout",
     "output_type": "stream",
     "text": [
      "[2, 1]\n"
     ]
    }
   ],
   "source": [
    "stack =[]\n",
    "stack.append(2)\n",
    "stack.append(3)\n",
    "stack.append(5)\n",
    "\n",
    "stack.pop()\n",
    "stack.pop()\n",
    "\n",
    "stack.append(1)\n",
    "\n",
    "print(stack)"
   ]
  },
  {
   "cell_type": "code",
   "execution_count": 16,
   "metadata": {},
   "outputs": [
    {
     "name": "stdout",
     "output_type": "stream",
     "text": [
      "deque([5, 1])\n"
     ]
    }
   ],
   "source": [
    "from collections import deque\n",
    "\n",
    "queue = deque()\n",
    "\n",
    "queue.append(2) \n",
    "queue.append(3)\n",
    "\n",
    "queue.popleft()\n",
    "\n",
    "queue.append(5)\n",
    "\n",
    "queue.popleft()\n",
    "\n",
    "queue.append(1)\n",
    "\n",
    "print(queue)\n"
   ]
  },
  {
   "cell_type": "code",
   "execution_count": 12,
   "metadata": {},
   "outputs": [],
   "source": [
    "from collections import deque"
   ]
  }
 ],
 "metadata": {
  "kernelspec": {
   "display_name": "Python 3",
   "language": "python",
   "name": "python3"
  },
  "language_info": {
   "codemirror_mode": {
    "name": "ipython",
    "version": 3
   },
   "file_extension": ".py",
   "mimetype": "text/x-python",
   "name": "python",
   "nbconvert_exporter": "python",
   "pygments_lexer": "ipython3",
   "version": "3.12.3"
  }
 },
 "nbformat": 4,
 "nbformat_minor": 2
}
